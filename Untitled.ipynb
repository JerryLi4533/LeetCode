{
 "cells": [
  {
   "cell_type": "code",
   "execution_count": 1,
   "id": "ac7e7ea5",
   "metadata": {},
   "outputs": [],
   "source": [
    "class Stack:\n",
    "    def __init__(self):\n",
    "        self.items = []\n",
    "    def push(self, item):\n",
    "        self.items.append(item)\n",
    "    def pop(self):\n",
    "        return self.items.pop()\n",
    "    def peek(self):\n",
    "        return len(self.items) - 1\n",
    "    def isEmpty(self):\n",
    "        return self.items == []\n",
    "    def size(self):\n",
    "        return len(self.items)"
   ]
  },
  {
   "cell_type": "code",
   "execution_count": 2,
   "id": "6618a158",
   "metadata": {},
   "outputs": [],
   "source": [
    "s = Stack()"
   ]
  },
  {
   "cell_type": "code",
   "execution_count": 3,
   "id": "ca5bcf14",
   "metadata": {},
   "outputs": [],
   "source": [
    "s.push(1)\n",
    "s.push(2)\n",
    "s.push(3)"
   ]
  },
  {
   "cell_type": "code",
   "execution_count": 4,
   "id": "8736cc49",
   "metadata": {},
   "outputs": [
    {
     "name": "stdout",
     "output_type": "stream",
     "text": [
      "3\n"
     ]
    }
   ],
   "source": [
    "print(s.size())"
   ]
  },
  {
   "cell_type": "code",
   "execution_count": 5,
   "id": "ed46129f",
   "metadata": {},
   "outputs": [
    {
     "name": "stdout",
     "output_type": "stream",
     "text": [
      "2\n"
     ]
    }
   ],
   "source": [
    "print(s.peek())"
   ]
  },
  {
   "cell_type": "code",
   "execution_count": 6,
   "id": "9b791203",
   "metadata": {},
   "outputs": [
    {
     "name": "stdout",
     "output_type": "stream",
     "text": [
      "False\n"
     ]
    }
   ],
   "source": [
    "print(s.isEmpty())"
   ]
  },
  {
   "cell_type": "code",
   "execution_count": 7,
   "id": "0e30f944",
   "metadata": {},
   "outputs": [
    {
     "data": {
      "text/plain": [
       "1"
      ]
     },
     "execution_count": 7,
     "metadata": {},
     "output_type": "execute_result"
    }
   ],
   "source": [
    "s.pop()\n",
    "s.pop()\n",
    "s.pop()"
   ]
  },
  {
   "cell_type": "code",
   "execution_count": 8,
   "id": "63b7a113",
   "metadata": {},
   "outputs": [
    {
     "name": "stdout",
     "output_type": "stream",
     "text": [
      "True\n"
     ]
    }
   ],
   "source": [
    "print(s.isEmpty())"
   ]
  },
  {
   "cell_type": "code",
   "execution_count": 9,
   "id": "0202ee80",
   "metadata": {},
   "outputs": [],
   "source": [
    "class Queue:\n",
    "    def __init__(self):\n",
    "        self.items = []\n",
    "    def enqueue(self, item):\n",
    "        self.items.insert(0, item)\n",
    "    def dequeue(self):\n",
    "        return self.items.pop()\n",
    "    def isEmpty(self):\n",
    "        return self.items == []\n",
    "    def size(self):\n",
    "        return len(self.items)\n",
    "    "
   ]
  },
  {
   "cell_type": "code",
   "execution_count": 10,
   "id": "bdbdeb58",
   "metadata": {},
   "outputs": [],
   "source": [
    "q = Queue()"
   ]
  },
  {
   "cell_type": "code",
   "execution_count": 11,
   "id": "4268a8d5",
   "metadata": {},
   "outputs": [],
   "source": [
    "q.enqueue(1)\n",
    "q.enqueue(2)\n",
    "q.enqueue(3)"
   ]
  },
  {
   "cell_type": "code",
   "execution_count": 12,
   "id": "eef4cbc7",
   "metadata": {},
   "outputs": [
    {
     "name": "stdout",
     "output_type": "stream",
     "text": [
      "False\n"
     ]
    }
   ],
   "source": [
    "print(q.isEmpty())"
   ]
  },
  {
   "cell_type": "code",
   "execution_count": 13,
   "id": "687166e7",
   "metadata": {},
   "outputs": [
    {
     "data": {
      "text/plain": [
       "1"
      ]
     },
     "execution_count": 13,
     "metadata": {},
     "output_type": "execute_result"
    }
   ],
   "source": [
    "q.dequeue()"
   ]
  },
  {
   "cell_type": "code",
   "execution_count": 14,
   "id": "4b60be3a",
   "metadata": {},
   "outputs": [
    {
     "data": {
      "text/plain": [
       "2"
      ]
     },
     "execution_count": 14,
     "metadata": {},
     "output_type": "execute_result"
    }
   ],
   "source": [
    "q.dequeue()"
   ]
  },
  {
   "cell_type": "code",
   "execution_count": 15,
   "id": "dc632c54",
   "metadata": {},
   "outputs": [
    {
     "data": {
      "text/plain": [
       "3"
      ]
     },
     "execution_count": 15,
     "metadata": {},
     "output_type": "execute_result"
    }
   ],
   "source": [
    "q.dequeue()"
   ]
  },
  {
   "cell_type": "code",
   "execution_count": 16,
   "id": "5861232c",
   "metadata": {},
   "outputs": [
    {
     "data": {
      "text/plain": [
       "True"
      ]
     },
     "execution_count": 16,
     "metadata": {},
     "output_type": "execute_result"
    }
   ],
   "source": [
    "q.isEmpty()"
   ]
  },
  {
   "cell_type": "code",
   "execution_count": 17,
   "id": "70579731",
   "metadata": {},
   "outputs": [],
   "source": [
    "kids = ['A', 'B', 'C', 'D', 'E', 'F']\n",
    "q = Queue()"
   ]
  },
  {
   "cell_type": "code",
   "execution_count": 18,
   "id": "ac9f8cc9",
   "metadata": {},
   "outputs": [],
   "source": [
    "for kid in kids:\n",
    "    q.enqueue(kid)"
   ]
  },
  {
   "cell_type": "code",
   "execution_count": 19,
   "id": "b3b2f062",
   "metadata": {},
   "outputs": [],
   "source": [
    "while q.size() > 1:\n",
    "    for _ in range(6):\n",
    "        head = q.dequeue()\n",
    "        q.enqueue(head)\n",
    "    q.dequeue()"
   ]
  },
  {
   "cell_type": "code",
   "execution_count": 20,
   "id": "f0a02ec7",
   "metadata": {},
   "outputs": [
    {
     "name": "stdout",
     "output_type": "stream",
     "text": [
      "E\n"
     ]
    }
   ],
   "source": [
    "print(q.dequeue())"
   ]
  },
  {
   "cell_type": "code",
   "execution_count": 22,
   "id": "bc6092fe",
   "metadata": {},
   "outputs": [],
   "source": [
    "class Node():\n",
    "    def __init__(self, item):\n",
    "        self.item = item\n",
    "        self.next = None"
   ]
  },
  {
   "cell_type": "code",
   "execution_count": 68,
   "id": "c7947e46",
   "metadata": {},
   "outputs": [],
   "source": [
    "class Link():\n",
    "    def __init__(self):\n",
    "        self._head = None\n",
    "        \n",
    "    def add(self, item):\n",
    "        node = Node(item)\n",
    "        node.next = self._head\n",
    "        self._head = node \n",
    "        \n",
    "    def travel(self):\n",
    "        cur = self._head\n",
    "        while cur:\n",
    "            print(cur.item)\n",
    "            cur = cur.next\n",
    "            \n",
    "    def isEmpty(self):\n",
    "        return self._head == None\n",
    "    \n",
    "    def lenth(self):\n",
    "        cur = self._head\n",
    "        count = 0\n",
    "        while cur:\n",
    "            count += 1\n",
    "            cur = cur.next\n",
    "        return count\n",
    "\n",
    "    def append(self, item):\n",
    "        node = Node(item)\n",
    "        if self._head == None:\n",
    "            self._head = node\n",
    "            return\n",
    "        pre = None\n",
    "        cur = self._head\n",
    "        while cur:\n",
    "            pre = cur\n",
    "            cur = cur.next\n",
    "        pre.next = node\n",
    "        \n",
    "    def search(self, item):\n",
    "        cur = self._head\n",
    "        find = False\n",
    "        while cur:\n",
    "            if cur.item == item:\n",
    "                return True\n",
    "            else:\n",
    "                cur = cur.next\n",
    "        return find"
   ]
  },
  {
   "cell_type": "code",
   "execution_count": 69,
   "id": "011d876f",
   "metadata": {},
   "outputs": [],
   "source": [
    "link = Link()\n",
    "link.add(1)\n",
    "link.add(2)\n",
    "link.append(3)"
   ]
  },
  {
   "cell_type": "code",
   "execution_count": 70,
   "id": "f4ac57de",
   "metadata": {
    "scrolled": true
   },
   "outputs": [
    {
     "name": "stdout",
     "output_type": "stream",
     "text": [
      "2\n",
      "1\n",
      "3\n"
     ]
    }
   ],
   "source": [
    "link.travel()"
   ]
  },
  {
   "cell_type": "code",
   "execution_count": 71,
   "id": "739903eb",
   "metadata": {},
   "outputs": [
    {
     "data": {
      "text/plain": [
       "False"
      ]
     },
     "execution_count": 71,
     "metadata": {},
     "output_type": "execute_result"
    }
   ],
   "source": [
    "link.isEmpty()"
   ]
  },
  {
   "cell_type": "code",
   "execution_count": 72,
   "id": "bdf24b46",
   "metadata": {},
   "outputs": [
    {
     "data": {
      "text/plain": [
       "3"
      ]
     },
     "execution_count": 72,
     "metadata": {},
     "output_type": "execute_result"
    }
   ],
   "source": [
    "link.lenth()"
   ]
  },
  {
   "cell_type": "code",
   "execution_count": 73,
   "id": "178f9abe",
   "metadata": {},
   "outputs": [
    {
     "data": {
      "text/plain": [
       "True"
      ]
     },
     "execution_count": 73,
     "metadata": {},
     "output_type": "execute_result"
    }
   ],
   "source": [
    "link.search(1)"
   ]
  },
  {
   "cell_type": "code",
   "execution_count": null,
   "id": "5ddc49ab",
   "metadata": {},
   "outputs": [],
   "source": []
  }
 ],
 "metadata": {
  "kernelspec": {
   "display_name": "Python 3 (ipykernel)",
   "language": "python",
   "name": "python3"
  },
  "language_info": {
   "codemirror_mode": {
    "name": "ipython",
    "version": 3
   },
   "file_extension": ".py",
   "mimetype": "text/x-python",
   "name": "python",
   "nbconvert_exporter": "python",
   "pygments_lexer": "ipython3",
   "version": "3.10.10"
  }
 },
 "nbformat": 4,
 "nbformat_minor": 5
}
